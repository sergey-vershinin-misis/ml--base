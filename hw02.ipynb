{
 "cells": [
  {
   "cell_type": "markdown",
   "source": [
    "# ДЗ2 по предмету \"Технологии решения задач машинного обучения\", Инженерия Данных, МИСИС"
   ],
   "metadata": {
    "collapsed": false
   },
   "id": "8e2ef13fc4f11df8"
  },
  {
   "cell_type": "code",
   "execution_count": 1,
   "outputs": [],
   "source": [
    "import time\n",
    "import torch # тут весь базовый функционал\n",
    "import torch.nn # тут все, что нужно для построение нейросетей\n",
    "import torch.nn.functional # тут все функции для работы с нейросетями\n",
    "import torch.optim # тут все по оптимизаторам\n",
    "import torch.optim.lr_scheduler # тут планировщики обучения\n",
    "import torch.amp # тут функции для mix-precision обучения\n",
    "import torch.cuda # тут все для взаимодействия с ГПУ\n",
    "import torch.utils.data # тут все для работы с данными\n",
    "import warnings\n",
    "warnings.filterwarnings('ignore')"
   ],
   "metadata": {
    "collapsed": false,
    "ExecuteTime": {
     "end_time": "2023-12-25T09:42:15.213783Z",
     "start_time": "2023-12-25T09:42:13.388718500Z"
    }
   },
   "id": "13dbf7b9864e6e66"
  },
  {
   "cell_type": "markdown",
   "source": [
    "### Загрузка данных и разделение на обучающую и валидационную выборки. Создание Datasets и DataLoaders"
   ],
   "metadata": {
    "collapsed": false
   },
   "id": "203892ae143163c5"
  },
  {
   "cell_type": "code",
   "execution_count": 2,
   "outputs": [],
   "source": [
    "import pandas as pd\n",
    "from sklearn.model_selection import train_test_split\n",
    "\n",
    "dt = pd.read_csv('.local/utk_vecs_train.csv')\n",
    "train_dt, val_dt = train_test_split(dt, random_state=32)"
   ],
   "metadata": {
    "collapsed": false,
    "ExecuteTime": {
     "end_time": "2023-12-25T09:42:21.074582500Z",
     "start_time": "2023-12-25T09:42:18.382727700Z"
    }
   },
   "id": "7b42c79be541db9f"
  },
  {
   "cell_type": "code",
   "execution_count": 3,
   "id": "initial_id",
   "metadata": {
    "collapsed": true,
    "ExecuteTime": {
     "end_time": "2023-12-25T09:42:24.057689400Z",
     "start_time": "2023-12-25T09:42:24.005530400Z"
    }
   },
   "outputs": [],
   "source": [
    "class Dataset(torch.utils.data.Dataset):\n",
    "    def __init__(self, dataframe, return_targets=True):\n",
    "        self._x = dataframe.drop(['age', 'gender', 'race'], axis=1).values.astype('float32')\n",
    "        self._y = dataframe[['age', 'gender', 'race']].values.astype('float32')\n",
    "        self._return_targets = return_targets\n",
    "\n",
    "    def __len__(self):\n",
    "        return len(self._x)\n",
    "\n",
    "    def __getitem__(self, idx):\n",
    "        x = self._x[idx]\n",
    "\n",
    "        if not self._return_targets:\n",
    "            return x\n",
    "\n",
    "        y = self._y[idx]\n",
    "        return x, y\n",
    "\n",
    "\n",
    "train_dataset, val_dataset = Dataset(train_dt), Dataset(val_dt)\n",
    "train_dataloader = torch.utils.data.DataLoader(\n",
    "    dataset=train_dataset,\n",
    "    batch_size=8,\n",
    "    shuffle=True,\n",
    "    num_workers=0\n",
    ")\n",
    "val_dataloader = torch.utils.data.DataLoader(\n",
    "    dataset=val_dataset,\n",
    "    batch_size=8,\n",
    "    shuffle=False,\n",
    "    num_workers=0\n",
    ")"
   ]
  },
  {
   "cell_type": "markdown",
   "source": [
    "### Описание модели"
   ],
   "metadata": {
    "collapsed": false
   },
   "id": "df80ff4d66175d90"
  },
  {
   "cell_type": "code",
   "execution_count": 4,
   "outputs": [],
   "source": [
    "class FaceAttributesModel(torch.nn.Module):\n",
    "    def __init__(self, in_features):\n",
    "        super().__init__()\n",
    "        \n",
    "        self._fc1 = torch.nn.Linear(in_features, 256)\n",
    "        self._fc2 = torch.nn.Linear(256, 128)\n",
    "        \n",
    "        self._fc_age = torch.nn.Linear(128, 1)\n",
    "        self._fc_gender = torch.nn.Linear(128, 2)\n",
    "        self._fc_race = torch.nn.Linear(128, 5)\n",
    "        \n",
    "        self._relu = torch.nn.ReLU()\n",
    "\n",
    "    def forward(self, x):\n",
    "        x = self._fc1(x)\n",
    "        x = self._relu(x)\n",
    "        x = self._fc2(x)\n",
    "        x = self._relu(x)\n",
    "\n",
    "        age = self._fc_age(x)\n",
    "        gender = self._fc_gender(x)\n",
    "        race = self._fc_race(x)\n",
    "        \n",
    "        return age, gender, race"
   ],
   "metadata": {
    "collapsed": false,
    "ExecuteTime": {
     "end_time": "2023-12-25T09:42:30.758241Z",
     "start_time": "2023-12-25T09:42:30.732113200Z"
    }
   },
   "id": "419f43e953af762d"
  },
  {
   "cell_type": "markdown",
   "source": [
    "### Обучение и валидация модели с теми же параметрами, что и на лекции (для определения базовых значений метрик качества)\n",
    "Т.к. на лекции при разбиении выборки на обучающую и валидационную не было задано random_state, то получить те же базовые значения метрик качества будет проблематично. Поэтому мы рассчитаем их еще раз, используя те же параметры модели, что использовались на лекции, но уже на наших обучающей и валидационной выборке. "
   ],
   "metadata": {
    "collapsed": false
   },
   "id": "6d75abb914f50ed0"
  },
  {
   "cell_type": "code",
   "execution_count": 47,
   "outputs": [
    {
     "name": "stdout",
     "output_type": "stream",
     "text": [
      "=========== TRAIN ===========\n",
      "loss: 208.55249645182292\n",
      "=========== VAL ===========\n",
      "AGE MAE ERROR: 7.370297431945801\n",
      "GENDER ACCURACY ERROR: 0.8849999904632568\n",
      "RACE ACCURACY ERROR: 0.7211999893188477\n",
      "=========== TRAIN ===========\n",
      "loss: 156.88446643371583\n",
      "=========== VAL ===========\n",
      "AGE MAE ERROR: 6.982017993927002\n",
      "GENDER ACCURACY ERROR: 0.8813999891281128\n",
      "RACE ACCURACY ERROR: 0.7074000239372253\n",
      "=========== TRAIN ===========\n",
      "loss: 152.64213972778322\n",
      "=========== VAL ===========\n",
      "AGE MAE ERROR: 7.135563850402832\n",
      "GENDER ACCURACY ERROR: 0.8942000269889832\n",
      "RACE ACCURACY ERROR: 0.7152000069618225\n",
      "=========== TRAIN ===========\n",
      "loss: 150.75963356933593\n",
      "=========== VAL ===========\n",
      "AGE MAE ERROR: 7.284883499145508\n",
      "GENDER ACCURACY ERROR: 0.8956000208854675\n",
      "RACE ACCURACY ERROR: 0.7157999873161316\n",
      "=========== TRAIN ===========\n",
      "loss: 147.9844390645345\n",
      "=========== VAL ===========\n",
      "AGE MAE ERROR: 6.973548412322998\n",
      "GENDER ACCURACY ERROR: 0.8637999892234802\n",
      "RACE ACCURACY ERROR: 0.7039999961853027\n",
      "=========== TRAIN ===========\n",
      "loss: 145.49301585388184\n",
      "=========== VAL ===========\n",
      "AGE MAE ERROR: 6.6485724449157715\n",
      "GENDER ACCURACY ERROR: 0.8533999919891357\n",
      "RACE ACCURACY ERROR: 0.7301999926567078\n",
      "=========== TRAIN ===========\n",
      "loss: 144.0973045481364\n",
      "=========== VAL ===========\n",
      "AGE MAE ERROR: 7.075260162353516\n",
      "GENDER ACCURACY ERROR: 0.8736000061035156\n",
      "RACE ACCURACY ERROR: 0.7477999925613403\n",
      "=========== TRAIN ===========\n",
      "loss: 141.1007932240804\n",
      "=========== VAL ===========\n",
      "AGE MAE ERROR: 6.85322904586792\n",
      "GENDER ACCURACY ERROR: 0.8903999924659729\n",
      "RACE ACCURACY ERROR: 0.7562000155448914\n",
      "=========== TRAIN ===========\n",
      "loss: 141.4290506673177\n",
      "=========== VAL ===========\n",
      "AGE MAE ERROR: 7.16475248336792\n",
      "GENDER ACCURACY ERROR: 0.8849999904632568\n",
      "RACE ACCURACY ERROR: 0.7325999736785889\n",
      "=========== TRAIN ===========\n",
      "loss: 116.89500796000162\n",
      "=========== VAL ===========\n",
      "AGE MAE ERROR: 6.430646896362305\n",
      "GENDER ACCURACY ERROR: 0.9039999842643738\n",
      "RACE ACCURACY ERROR: 0.776199996471405\n",
      "=========== TRAIN ===========\n",
      "loss: 111.12245264485676\n",
      "=========== VAL ===========\n",
      "AGE MAE ERROR: 6.357822418212891\n",
      "GENDER ACCURACY ERROR: 0.9035999774932861\n",
      "RACE ACCURACY ERROR: 0.7788000106811523\n",
      "=========== TRAIN ===========\n",
      "loss: 109.47045099690756\n",
      "=========== VAL ===========\n",
      "AGE MAE ERROR: 6.383539199829102\n",
      "GENDER ACCURACY ERROR: 0.9025999903678894\n",
      "RACE ACCURACY ERROR: 0.77920001745224\n",
      "=========== TRAIN ===========\n",
      "loss: 108.07598668721516\n",
      "=========== VAL ===========\n",
      "AGE MAE ERROR: 6.3155517578125\n",
      "GENDER ACCURACY ERROR: 0.9039999842643738\n",
      "RACE ACCURACY ERROR: 0.7815999984741211\n",
      "=========== TRAIN ===========\n",
      "loss: 106.9828933670044\n",
      "=========== VAL ===========\n",
      "AGE MAE ERROR: 6.328014850616455\n",
      "GENDER ACCURACY ERROR: 0.9067999720573425\n",
      "RACE ACCURACY ERROR: 0.7799999713897705\n",
      "=========== TRAIN ===========\n",
      "loss: 106.39446634114583\n",
      "=========== VAL ===========\n",
      "AGE MAE ERROR: 6.51168966293335\n",
      "GENDER ACCURACY ERROR: 0.9039999842643738\n",
      "RACE ACCURACY ERROR: 0.7742000222206116\n",
      "=========== TRAIN ===========\n",
      "loss: 105.9004177927653\n",
      "=========== VAL ===========\n",
      "AGE MAE ERROR: 6.361546039581299\n",
      "GENDER ACCURACY ERROR: 0.9056000113487244\n",
      "RACE ACCURACY ERROR: 0.7843999862670898\n",
      "=========== TRAIN ===========\n",
      "loss: 105.300970509847\n",
      "=========== VAL ===========\n",
      "AGE MAE ERROR: 6.333555698394775\n",
      "GENDER ACCURACY ERROR: 0.9047999978065491\n",
      "RACE ACCURACY ERROR: 0.7815999984741211\n",
      "=========== TRAIN ===========\n",
      "loss: 104.91382845153808\n",
      "=========== VAL ===========\n",
      "AGE MAE ERROR: 6.37867546081543\n",
      "GENDER ACCURACY ERROR: 0.9052000045776367\n",
      "RACE ACCURACY ERROR: 0.7835999727249146\n",
      "=========== TRAIN ===========\n",
      "loss: 104.24096695454915\n",
      "=========== VAL ===========\n",
      "AGE MAE ERROR: 6.340108394622803\n",
      "GENDER ACCURACY ERROR: 0.9075999855995178\n",
      "RACE ACCURACY ERROR: 0.7847999930381775\n",
      "=========== TRAIN ===========\n",
      "loss: 101.28293580322266\n",
      "=========== VAL ===========\n",
      "AGE MAE ERROR: 6.354564666748047\n",
      "GENDER ACCURACY ERROR: 0.9056000113487244\n",
      "RACE ACCURACY ERROR: 0.7870000004768372\n",
      "=========== TRAIN ===========\n",
      "loss: 100.92767828674316\n",
      "=========== VAL ===========\n",
      "AGE MAE ERROR: 6.326648235321045\n",
      "GENDER ACCURACY ERROR: 0.9061999917030334\n",
      "RACE ACCURACY ERROR: 0.7888000011444092\n",
      "=========== TRAIN ===========\n",
      "loss: 100.83665717722575\n",
      "=========== VAL ===========\n",
      "AGE MAE ERROR: 6.33180570602417\n",
      "GENDER ACCURACY ERROR: 0.9064000248908997\n",
      "RACE ACCURACY ERROR: 0.7843999862670898\n",
      "=========== TRAIN ===========\n",
      "loss: 100.72246147359212\n",
      "=========== VAL ===========\n",
      "AGE MAE ERROR: 6.372344017028809\n",
      "GENDER ACCURACY ERROR: 0.9074000120162964\n",
      "RACE ACCURACY ERROR: 0.7893999814987183\n",
      "=========== TRAIN ===========\n",
      "loss: 100.69569604288736\n",
      "=========== VAL ===========\n",
      "AGE MAE ERROR: 6.3613715171813965\n",
      "GENDER ACCURACY ERROR: 0.9074000120162964\n",
      "RACE ACCURACY ERROR: 0.7879999876022339\n",
      "=========== TRAIN ===========\n",
      "loss: 100.62571199137369\n",
      "=========== VAL ===========\n",
      "AGE MAE ERROR: 6.333637237548828\n",
      "GENDER ACCURACY ERROR: 0.9056000113487244\n",
      "RACE ACCURACY ERROR: 0.7879999876022339\n"
     ]
    }
   ],
   "source": [
    "model = FaceAttributesModel(in_features=512)\n",
    "loss_f_age = torch.nn.MSELoss()\n",
    "loss_f_gender = torch.nn.CrossEntropyLoss()\n",
    "loss_f_race = torch.nn.CrossEntropyLoss()\n",
    "\n",
    "optimizer = torch.optim.Adam(params=model.parameters(), lr=0.01)\n",
    "lr_scheduler = torch.optim.lr_scheduler.StepLR(optimizer=optimizer, step_size=10, gamma=0.1)\n",
    "\n",
    "num_epochs =  25\n",
    "\n",
    "for epoch in range(num_epochs):\n",
    "    print('=========== TRAIN ===========')\n",
    "    model.train()\n",
    "    lr_scheduler.step()\n",
    "    sum_loss_value = 0.0\n",
    "    for batch in train_dataloader:\n",
    "        optimizer.zero_grad()\n",
    "        data, targets = batch\n",
    "        age, gender_proba, race_proba = model(data)\n",
    "\n",
    "        loss_value_age = loss_f_age(age, targets[:, [0]])\n",
    "\n",
    "        loss_value_gender = loss_f_gender(gender_proba, targets[:, 1].long())\n",
    "\n",
    "        loss_value_race = loss_f_race(race_proba, targets[:, 2].long())\n",
    "        \n",
    "        loss_value = loss_value_age * 1.0 + loss_value_gender * 100.0 + loss_value_race * 40.0\n",
    "        loss_value.backward()\n",
    "        optimizer.step()\n",
    "        \n",
    "        sum_loss_value += loss_value.item()\n",
    "    print(f'loss: {sum_loss_value / len(train_dataloader)}')\n",
    "        \n",
    "    print('=========== VAL ===========')\n",
    "    model.eval()\n",
    "    metric_value_age, metric_value_gender, metric_value_race, n = 0.0, 0.0, 0.0, 0\n",
    "    for batch in val_dataloader:\n",
    "        data, targets = batch\n",
    "        with torch.no_grad():\n",
    "            age, gender_proba, race_proba  = model(data)\n",
    "            metric_value_age += torch.nn.functional.l1_loss(age, targets[:, [0]], reduction='sum')\n",
    "            metric_value_gender += (gender_proba.argmax(1) == targets[:, 1]).sum()\n",
    "            metric_value_race += (race_proba.argmax(1) == targets[:, 2]).sum()\n",
    "            n += len(data)\n",
    "    print(f'AGE MAE ERROR: {metric_value_age / n}')\n",
    "    print(f'GENDER ACCURACY ERROR: {metric_value_gender / n}')\n",
    "    print(f'RACE ACCURACY ERROR: {metric_value_race / n}')"
   ],
   "metadata": {
    "collapsed": false,
    "ExecuteTime": {
     "end_time": "2023-12-25T08:38:47.499307600Z",
     "start_time": "2023-12-25T08:32:10.380378600Z"
    }
   },
   "id": "9338c8502e836c4d"
  },
  {
   "cell_type": "markdown",
   "source": [
    "Таким образом, в качестве baseline берем следующие значения метрик качества: \n",
    "- Age: **6.333637237548828**  (MAE)\n",
    "- Gender: **0.9056000113487244** (Accuracy)\n",
    "- Race: **0.7879999876022339** (Accuracy)\n",
    "\n",
    "_В ноутбуке с лекции метрики были следующими: Age - 6.254171848297119, Gender - 0.9121999740600586, Race - 0.782800018787384_\n"
   ],
   "metadata": {
    "collapsed": false
   },
   "id": "16c52c49221b248a"
  },
  {
   "cell_type": "markdown",
   "source": [
    "### Обучение и валидация модели с подбором параметров и возможностью остановки на любой эпохе"
   ],
   "metadata": {
    "collapsed": false
   },
   "id": "840ecdc7fdafb0c8"
  },
  {
   "cell_type": "code",
   "execution_count": 10,
   "outputs": [
    {
     "name": "stdout",
     "output_type": "stream",
     "text": [
      "========== EPOCH 0 ============\n",
      "=========== TRAIN =================\n",
      "loss: 213.18783084106445\n",
      "=========== VAL ==================\n",
      "AGE MAE ERROR: 6.809619426727295\n",
      "GENDER ACCURACY ERROR: 0.8980000019073486\n",
      "RACE ACCURACY ERROR: 0.782800018787384\n",
      "========== EPOCH 1 ============\n",
      "=========== TRAIN =================\n",
      "loss: 159.86607458496093\n",
      "=========== VAL ==================\n",
      "AGE MAE ERROR: 6.490073204040527\n",
      "GENDER ACCURACY ERROR: 0.9089999794960022\n",
      "RACE ACCURACY ERROR: 0.7799999713897705\n",
      "========== EPOCH 2 ============\n",
      "=========== TRAIN =================\n",
      "loss: 144.5618419576009\n",
      "=========== VAL ==================\n",
      "AGE MAE ERROR: 6.611946105957031\n",
      "GENDER ACCURACY ERROR: 0.9114000201225281\n",
      "RACE ACCURACY ERROR: 0.7868000268936157\n",
      "========== EPOCH 3 ============\n",
      "=========== TRAIN =================\n",
      "loss: 132.02694673055012\n",
      "=========== VAL ==================\n",
      "AGE MAE ERROR: 6.18134880065918\n",
      "GENDER ACCURACY ERROR: 0.9124000072479248\n",
      "RACE ACCURACY ERROR: 0.7942000031471252\n",
      "========== EPOCH 4 ============\n",
      "=========== TRAIN =================\n",
      "loss: 121.9648795715332\n",
      "=========== VAL ==================\n",
      "AGE MAE ERROR: 6.114583492279053\n",
      "GENDER ACCURACY ERROR: 0.9156000018119812\n",
      "RACE ACCURACY ERROR: 0.7965999841690063\n",
      "========== EPOCH 5 ============\n",
      "=========== TRAIN =================\n",
      "loss: 92.48619805755615\n",
      "=========== VAL ==================\n",
      "AGE MAE ERROR: 6.039546966552734\n",
      "GENDER ACCURACY ERROR: 0.9187999963760376\n",
      "RACE ACCURACY ERROR: 0.8044000267982483\n",
      "========== EPOCH 6 ============\n",
      "=========== TRAIN =================\n",
      "loss: 85.9746642771403\n",
      "=========== VAL ==================\n",
      "AGE MAE ERROR: 5.996629238128662\n",
      "GENDER ACCURACY ERROR: 0.9179999828338623\n",
      "RACE ACCURACY ERROR: 0.8064000010490417\n"
     ]
    }
   ],
   "source": [
    "import time\n",
    "model = FaceAttributesModel(in_features=512)\n",
    "loss_f_age = torch.nn.MSELoss()\n",
    "loss_f_gender = torch.nn.CrossEntropyLoss()\n",
    "loss_f_race = torch.nn.CrossEntropyLoss()\n",
    "\n",
    "optimizer = torch.optim.Adam(params=model.parameters(), lr=0.001)\n",
    "lr_scheduler = torch.optim.lr_scheduler.StepLR(optimizer=optimizer, step_size=6, gamma=0.1)\n",
    "\n",
    "num_epochs =  30\n",
    "epoch = 0\n",
    "exit_flag = False\n",
    "while not exit_flag:\n",
    "    model.train()\n",
    "    lr_scheduler.step()\n",
    "    sum_loss_value = 0.0\n",
    "    for batch in train_dataloader:\n",
    "        optimizer.zero_grad()\n",
    "        data, targets = batch\n",
    "        age, gender_proba, race_proba = model(data)\n",
    "\n",
    "        loss_value_age = loss_f_age(age, targets[:, [0]])\n",
    "\n",
    "        loss_value_gender = loss_f_gender(gender_proba, targets[:, 1].long())\n",
    "\n",
    "        loss_value_race = loss_f_race(race_proba, targets[:, 2].long())\n",
    "        \n",
    "        loss_value = loss_value_age * 1.3 + loss_value_gender * 100.0 + loss_value_race * 40.0\n",
    "        loss_value.backward()\n",
    "        optimizer.step()\n",
    "        \n",
    "        sum_loss_value += loss_value.item()\n",
    "    print(f'========== EPOCH {epoch} ============')\n",
    "    print('=========== TRAIN =================')\n",
    "    print(f'loss: {sum_loss_value / len(train_dataloader)}')\n",
    "        \n",
    "    model.eval()\n",
    "    metric_value_age, metric_value_gender, metric_value_race, n = 0.0, 0.0, 0.0, 0\n",
    "    for batch in val_dataloader:\n",
    "        data, targets = batch\n",
    "        with torch.no_grad():\n",
    "            age, gender_proba, race_proba  = model(data)\n",
    "            metric_value_age += torch.nn.functional.l1_loss(age, targets[:, [0]], reduction='sum')\n",
    "            metric_value_gender += (gender_proba.argmax(1) == targets[:, 1]).sum()\n",
    "            metric_value_race += (race_proba.argmax(1) == targets[:, 2]).sum()\n",
    "            n += len(data)\n",
    "    print('=========== VAL ==================')\n",
    "    print(f'AGE MAE ERROR: {metric_value_age / n}')\n",
    "    print(f'GENDER ACCURACY ERROR: {metric_value_gender / n}')\n",
    "    print(f'RACE ACCURACY ERROR: {metric_value_race / n}')\n",
    "    \n",
    "    time.sleep(0.3)\n",
    "    epoch += 1\n",
    "    exit_flag = (input('stop iterarions (Y if yes)') == 'Y')"
   ],
   "metadata": {
    "collapsed": false,
    "ExecuteTime": {
     "end_time": "2023-12-25T10:06:44.419561300Z",
     "start_time": "2023-12-25T10:04:48.372306600Z"
    }
   },
   "id": "f0d40e37f8913c22"
  },
  {
   "cell_type": "markdown",
   "source": [
    "Видим, что в результате модификации веса лосс-функции для возраста (на 1.3 с 1.0), скорости обучения (0.001 вместо 0.01), количества шагов, после которых скорость обучения снижается в 10 раз (с 10 до 6) и остановки после 7й эпохи получили немного более хорошие метрики, как по сравнению с полученными нами выше, так и по сравнению с теми, что были получены на лекции:\n",
    "- Age: **5.996629238128662**  (MAE)\n",
    "- Gender: **0.9179999828338623** (Accuracy)\n",
    "- Race: **0.8064000010490417** (Accuracy)"
   ],
   "metadata": {
    "collapsed": false
   },
   "id": "378cea3999561a8"
  },
  {
   "cell_type": "markdown",
   "source": [
    "### Прогнозирование значений на контрольной выборке и сохранение результатов"
   ],
   "metadata": {
    "collapsed": false
   },
   "id": "dbdb9d4fab7018b3"
  },
  {
   "cell_type": "code",
   "execution_count": 12,
   "outputs": [
    {
     "data": {
      "text/plain": "(3705, 512)"
     },
     "execution_count": 12,
     "metadata": {},
     "output_type": "execute_result"
    }
   ],
   "source": [
    "test_df = pd.read_csv('.local/utk_vecs_test_wo_target.csv')\n",
    "test_df.shape"
   ],
   "metadata": {
    "collapsed": false,
    "ExecuteTime": {
     "end_time": "2023-12-25T10:14:19.186683800Z",
     "start_time": "2023-12-25T10:14:18.920817300Z"
    }
   },
   "id": "a1776465c35ab178"
  },
  {
   "cell_type": "code",
   "execution_count": 17,
   "outputs": [
    {
     "data": {
      "text/plain": "(torch.Size([3705, 1]), torch.Size([3705, 2]), torch.Size([3705, 5]))"
     },
     "execution_count": 17,
     "metadata": {},
     "output_type": "execute_result"
    }
   ],
   "source": [
    "test_tensor = torch.tensor(test_df.values.astype('float32'))\n",
    "with torch.no_grad():\n",
    "    age, gender_proba, race_proba  = model(test_tensor)\n",
    "\n",
    "age.size(), gender_proba.size(), race_proba.size()"
   ],
   "metadata": {
    "collapsed": false,
    "ExecuteTime": {
     "end_time": "2023-12-25T10:17:58.883460200Z",
     "start_time": "2023-12-25T10:17:58.861898600Z"
    }
   },
   "id": "141d5b982bc17614"
  },
  {
   "cell_type": "code",
   "execution_count": 20,
   "outputs": [
    {
     "data": {
      "text/plain": "(torch.Size([3705, 1]), torch.Size([3705]), torch.Size([3705]))"
     },
     "execution_count": 20,
     "metadata": {},
     "output_type": "execute_result"
    }
   ],
   "source": [
    "gender = gender_proba.argmax(1)\n",
    "race = race_proba.argmax(1)\n",
    "age.size(), gender.size(), race.size()"
   ],
   "metadata": {
    "collapsed": false,
    "ExecuteTime": {
     "end_time": "2023-12-25T10:18:26.324664100Z",
     "start_time": "2023-12-25T10:18:26.314709700Z"
    }
   },
   "id": "81c23ca5e66d641b"
  },
  {
   "cell_type": "code",
   "execution_count": 43,
   "outputs": [
    {
     "data": {
      "text/plain": "            age  gender  race\n0     26.170326       0     3\n1     67.896797       1     1\n2     36.564541       0     3\n3     22.143627       1     0\n4      5.832328       0     0\n...         ...     ...   ...\n3700  23.871128       0     2\n3701  34.399456       0     0\n3702  37.774616       1     1\n3703  52.400341       0     0\n3704  55.886410       1     0\n\n[3705 rows x 3 columns]",
      "text/html": "<div>\n<style scoped>\n    .dataframe tbody tr th:only-of-type {\n        vertical-align: middle;\n    }\n\n    .dataframe tbody tr th {\n        vertical-align: top;\n    }\n\n    .dataframe thead th {\n        text-align: right;\n    }\n</style>\n<table border=\"1\" class=\"dataframe\">\n  <thead>\n    <tr style=\"text-align: right;\">\n      <th></th>\n      <th>age</th>\n      <th>gender</th>\n      <th>race</th>\n    </tr>\n  </thead>\n  <tbody>\n    <tr>\n      <th>0</th>\n      <td>26.170326</td>\n      <td>0</td>\n      <td>3</td>\n    </tr>\n    <tr>\n      <th>1</th>\n      <td>67.896797</td>\n      <td>1</td>\n      <td>1</td>\n    </tr>\n    <tr>\n      <th>2</th>\n      <td>36.564541</td>\n      <td>0</td>\n      <td>3</td>\n    </tr>\n    <tr>\n      <th>3</th>\n      <td>22.143627</td>\n      <td>1</td>\n      <td>0</td>\n    </tr>\n    <tr>\n      <th>4</th>\n      <td>5.832328</td>\n      <td>0</td>\n      <td>0</td>\n    </tr>\n    <tr>\n      <th>...</th>\n      <td>...</td>\n      <td>...</td>\n      <td>...</td>\n    </tr>\n    <tr>\n      <th>3700</th>\n      <td>23.871128</td>\n      <td>0</td>\n      <td>2</td>\n    </tr>\n    <tr>\n      <th>3701</th>\n      <td>34.399456</td>\n      <td>0</td>\n      <td>0</td>\n    </tr>\n    <tr>\n      <th>3702</th>\n      <td>37.774616</td>\n      <td>1</td>\n      <td>1</td>\n    </tr>\n    <tr>\n      <th>3703</th>\n      <td>52.400341</td>\n      <td>0</td>\n      <td>0</td>\n    </tr>\n    <tr>\n      <th>3704</th>\n      <td>55.886410</td>\n      <td>1</td>\n      <td>0</td>\n    </tr>\n  </tbody>\n</table>\n<p>3705 rows × 3 columns</p>\n</div>"
     },
     "execution_count": 43,
     "metadata": {},
     "output_type": "execute_result"
    }
   ],
   "source": [
    "dt = pd.DataFrame()\n",
    "dt['age'] = age.numpy().flatten()\n",
    "dt['gender'] = gender.numpy()\n",
    "dt['race'] = race.numpy()\n",
    "\n",
    "# Вот этот файлик вы мне и отправляете\n",
    "dt.to_csv('submission_DL.csv', index=False)\n",
    "dt"
   ],
   "metadata": {
    "collapsed": false,
    "ExecuteTime": {
     "end_time": "2023-12-25T10:42:36.945453800Z",
     "start_time": "2023-12-25T10:42:36.930191700Z"
    }
   },
   "id": "f62737f017824d4e"
  }
 ],
 "metadata": {
  "kernelspec": {
   "display_name": "Python 3",
   "language": "python",
   "name": "python3"
  },
  "language_info": {
   "codemirror_mode": {
    "name": "ipython",
    "version": 2
   },
   "file_extension": ".py",
   "mimetype": "text/x-python",
   "name": "python",
   "nbconvert_exporter": "python",
   "pygments_lexer": "ipython2",
   "version": "2.7.6"
  }
 },
 "nbformat": 4,
 "nbformat_minor": 5
}
