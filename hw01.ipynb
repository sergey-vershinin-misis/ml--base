{
 "cells": [
  {
   "cell_type": "markdown",
   "source": [
    "# ДЗ1 по предмету \"Технологии решения задач машинного обучения\", Инженерия Данных, МИСИС"
   ],
   "metadata": {
    "collapsed": false
   },
   "id": "e52369858fb7245f"
  },
  {
   "cell_type": "markdown",
   "source": [
    "## Загрузка данных и разделение на трейн и тест"
   ],
   "metadata": {
    "collapsed": false
   },
   "id": "b508c4245bb214d"
  },
  {
   "cell_type": "code",
   "execution_count": 93,
   "id": "738a2938caea010a",
   "metadata": {
    "ExecuteTime": {
     "end_time": "2023-12-03T10:52:19.260847300Z",
     "start_time": "2023-12-03T10:52:17.555085200Z"
    }
   },
   "outputs": [
    {
     "name": "stdout",
     "output_type": "stream",
     "text": [
      "(17000, 515) (3000, 515)\n"
     ]
    }
   ],
   "source": [
    "import pandas as pd\n",
    "from sklearn.model_selection import train_test_split\n",
    "dt = pd.read_csv('utk_vecs_train.csv')\n",
    "\n",
    "dt_train, dt_test = train_test_split(\n",
    "    dt, \n",
    "    train_size=17000,\n",
    "    random_state=32\n",
    ")\n",
    "print(dt_train.shape, dt_test.shape)"
   ]
  },
  {
   "cell_type": "code",
   "execution_count": 94,
   "outputs": [],
   "source": [
    "from catboost import CatBoostClassifier, CatBoostRegressor\n",
    "from sklearn.ensemble import StackingRegressor, StackingClassifier\n",
    "from sklearn.linear_model import Ridge, LogisticRegression, Lasso\n",
    "from sklearn.svm import SVC, SVR\n",
    "from sklearn.neighbors import KNeighborsRegressor, KNeighborsClassifier\n",
    "from sklearn.metrics import mean_absolute_error, accuracy_score"
   ],
   "metadata": {
    "collapsed": false,
    "ExecuteTime": {
     "end_time": "2023-12-03T10:52:19.262864900Z",
     "start_time": "2023-12-03T10:52:19.232640900Z"
    }
   },
   "id": "2f87e9c4c0407e8a"
  },
  {
   "cell_type": "code",
   "execution_count": 95,
   "outputs": [],
   "source": [
    "import warnings\n",
    "warnings.filterwarnings('ignore')"
   ],
   "metadata": {
    "collapsed": false,
    "ExecuteTime": {
     "end_time": "2023-12-03T10:52:19.262864900Z",
     "start_time": "2023-12-03T10:52:19.237029700Z"
    }
   },
   "id": "d929bbce7a3fea63"
  },
  {
   "cell_type": "markdown",
   "source": [
    "## 1. Регрессия (предсказание возраста). Выбор оптимальной модели.\n",
    "### Ridge (MAE - 7.11)\n",
    "Обучение и оценка модели Ridge() c гиперпараметрами по умолчанию (сделано на лекции)"
   ],
   "metadata": {
    "collapsed": false
   },
   "id": "d2ac6dfe99dff0d1"
  },
  {
   "cell_type": "code",
   "execution_count": 96,
   "outputs": [
    {
     "data": {
      "text/plain": "7.109253719157683"
     },
     "execution_count": 96,
     "metadata": {},
     "output_type": "execute_result"
    }
   ],
   "source": [
    "\n",
    "model = Ridge()\n",
    "\n",
    "model.fit(\n",
    "    dt_train.drop(['age', 'race', 'gender'], axis=1).values,\n",
    "    dt_train['age'].values\n",
    ")\n",
    "mean_absolute_error(\n",
    "    model.predict(\n",
    "        dt_test.drop(['age', 'race', 'gender'], axis=1).values\n",
    "    ),\n",
    "    dt_test['age'].values\n",
    ")"
   ],
   "metadata": {
    "collapsed": false,
    "ExecuteTime": {
     "end_time": "2023-12-03T10:52:19.388659Z",
     "start_time": "2023-12-03T10:52:19.245839800Z"
    }
   },
   "id": "804ceda0-608a-42ae-a01d-a6f2993b165e"
  },
  {
   "cell_type": "markdown",
   "source": [
    "### CatBoost (MAE - 6.81)\n",
    "Обучение и оценка модели CatBoost с параметрами по умолчанию (сделано на лекции)"
   ],
   "metadata": {
    "collapsed": false
   },
   "id": "2d46e27c160f3574"
  },
  {
   "cell_type": "code",
   "execution_count": 97,
   "id": "187858c8-4b57-44d6-8fa4-f822118c8310",
   "metadata": {
    "ExecuteTime": {
     "end_time": "2023-12-03T10:52:49.706406500Z",
     "start_time": "2023-12-03T10:52:19.361150200Z"
    }
   },
   "outputs": [
    {
     "data": {
      "text/plain": "6.811448574687635"
     },
     "execution_count": 97,
     "metadata": {},
     "output_type": "execute_result"
    }
   ],
   "source": [
    "model = CatBoostRegressor(verbose=False)\n",
    "\n",
    "model.fit(\n",
    "    dt_train.drop(['age', 'race', 'gender'], axis=1).values,\n",
    "    dt_train['age'].values\n",
    ")\n",
    "mean_absolute_error(\n",
    "    model.predict(\n",
    "        dt_test.drop(['age', 'race', 'gender'], axis=1).values\n",
    "    ),\n",
    "    dt_test['age'].values\n",
    ")"
   ]
  },
  {
   "cell_type": "markdown",
   "source": [
    "### Bagging (incl. CatBoost) (MAE - 6.7)\n",
    "Bagging нескольких моделей, включая CatBoost (сделано на лекции) "
   ],
   "metadata": {
    "collapsed": false
   },
   "id": "7c3bfb7ac0f681e4"
  },
  {
   "cell_type": "code",
   "execution_count": 98,
   "id": "878a4128-8279-4c62-a278-37edaf7f201c",
   "metadata": {
    "ExecuteTime": {
     "end_time": "2023-12-03T10:53:24.300628Z",
     "start_time": "2023-12-03T10:52:49.691404100Z"
    }
   },
   "outputs": [
    {
     "name": "stdout",
     "output_type": "stream",
     "text": [
      "fitting ridge\n",
      "fitting lasso\n",
      "fitting catboost\n",
      "fitting kmeans\n"
     ]
    },
    {
     "data": {
      "text/plain": "6.704717085464105"
     },
     "execution_count": 98,
     "metadata": {},
     "output_type": "execute_result"
    }
   ],
   "source": [
    "models = [\n",
    "    ('ridge', Ridge()),\n",
    "    ('lasso', Lasso()),\n",
    "    ('catboost', CatBoostRegressor(verbose=False)),\n",
    "    ('kmeans', KNeighborsRegressor())\n",
    "]\n",
    "predictions = []\n",
    "\n",
    "for name, model in models:\n",
    "    print(f'fitting {name}')\n",
    "    model.fit(\n",
    "        dt_train.drop(['age', 'race', 'gender'], axis=1).values,\n",
    "        dt_train['age'].values\n",
    "    )\n",
    "    predictions.append(\n",
    "        model.predict(\n",
    "            dt_test.drop(['age', 'race', 'gender'], axis=1).values\n",
    "        )\n",
    "    )\n",
    "\n",
    "predictions = sum(predictions) / len(predictions)\n",
    "mean_absolute_error(predictions, dt_test['age'].values)"
   ]
  },
  {
   "cell_type": "markdown",
   "source": [
    "### Stacking (MAE - 6.11)\n",
    "Обучение и оценка модели методом стекинга"
   ],
   "metadata": {
    "collapsed": false
   },
   "id": "dcfe0871598927f1"
  },
  {
   "cell_type": "code",
   "execution_count": 99,
   "outputs": [
    {
     "data": {
      "text/plain": "6.111166533160724"
     },
     "execution_count": 99,
     "metadata": {},
     "output_type": "execute_result"
    }
   ],
   "source": [
    "models = [\n",
    "    ('ridge', Ridge()),\n",
    "    ('lasso', Lasso()),\n",
    "    # ('catboost', CatBoostRegressor(verbose=False)),\n",
    "    ('kmeans', KNeighborsRegressor())\n",
    "]\n",
    "\n",
    "# meta_model = ElasticNet()  # CatBoostRegressor(verbose=True)\n",
    "meta_model = CatBoostRegressor(verbose=False)\n",
    "\n",
    "ensemble = StackingRegressor(\n",
    "    estimators=models,\n",
    "    final_estimator=meta_model,\n",
    "    verbose=True\n",
    ")\n",
    "\n",
    "\n",
    "ensemble.fit(\n",
    "        dt_train.drop(['age', 'race', 'gender'], axis=1).values,\n",
    "        dt_train['age'].values\n",
    "    )\n",
    "\n",
    "\n",
    "mean_absolute_error(\n",
    "    ensemble.predict(\n",
    "        dt_test.drop(['age', 'race', 'gender'], axis=1).values\n",
    "    ),\n",
    "    dt_test['age'].values\n",
    ")"
   ],
   "metadata": {
    "collapsed": false,
    "ExecuteTime": {
     "end_time": "2023-12-03T10:53:42.445525800Z",
     "start_time": "2023-12-03T10:53:24.278112100Z"
    }
   },
   "id": "7b04a810-6b34-4dc4-b239-44c0302baee8"
  },
  {
   "cell_type": "code",
   "execution_count": 100,
   "outputs": [],
   "source": [
    "\"\"\"Фиксируем лучшую модель\"\"\"\n",
    "model_age = ensemble"
   ],
   "metadata": {
    "collapsed": false,
    "ExecuteTime": {
     "end_time": "2023-12-03T10:53:42.497514100Z",
     "start_time": "2023-12-03T10:53:42.451506800Z"
    }
   },
   "id": "bd277285fbf27e1"
  },
  {
   "cell_type": "markdown",
   "source": [
    "## Классификация бинарная (предсказание пола). Обучение и выбор лучшей модели\n",
    "### Bagging (incl. CatBoost) (accuracy - 0.9197)\n",
    "Обучение и оценка моделей методом бэггинга  (сделано на занятии)"
   ],
   "metadata": {
    "collapsed": false
   },
   "id": "f1619a7e545a5c77"
  },
  {
   "cell_type": "code",
   "execution_count": 101,
   "id": "be080bc108e0d607",
   "metadata": {
    "ExecuteTime": {
     "end_time": "2023-12-03T10:54:20.750310Z",
     "start_time": "2023-12-03T10:53:42.458517400Z"
    }
   },
   "outputs": [
    {
     "data": {
      "text/plain": "0.9196666666666666"
     },
     "execution_count": 101,
     "metadata": {},
     "output_type": "execute_result"
    }
   ],
   "source": [
    "models = [\n",
    "    ('log_reg', LogisticRegression()),\n",
    "    ('catboost', CatBoostClassifier(verbose=False)),\n",
    "    ('kmeans', KNeighborsClassifier())\n",
    "]\n",
    "\n",
    "predictions = []\n",
    "for name, model in models:\n",
    "    # print(f'fitting {name}')\n",
    "    model.fit(\n",
    "        dt_train.drop(['age', 'race', 'gender'], axis=1).values,\n",
    "        dt_train['gender'].values\n",
    "    )\n",
    "    predictions.append(\n",
    "        model.predict_proba(\n",
    "            dt_test.drop(['age', 'race', 'gender'], axis=1).values\n",
    "        )\n",
    "    )\n",
    "    \n",
    "mean_predictions = sum(predictions) / len(predictions)\n",
    "# np.argmax(mean_predictions, axis=1)\n",
    "accuracy_score(np.argmax(mean_predictions, axis=1), dt_test['gender'].values)"
   ]
  },
  {
   "cell_type": "markdown",
   "source": [
    "### Bagging (incl. CatBoost) with tuned models (accuracy - 0.9204)\n",
    "Обучение моделей методом бэггинга и оценка (с предварительным подбором оптимальных гиперпараметров чере GridSearchCV)"
   ],
   "metadata": {
    "collapsed": false
   },
   "id": "d70c497f559810d"
  },
  {
   "cell_type": "code",
   "execution_count": 102,
   "outputs": [
    {
     "data": {
      "text/plain": "0.9203333333333333"
     },
     "execution_count": 102,
     "metadata": {},
     "output_type": "execute_result"
    }
   ],
   "source": [
    "models = [\n",
    "    ('log_reg', LogisticRegression(C = 100, penalty = 'l2')),\n",
    "    ('catboost', CatBoostClassifier(verbose=False)),\n",
    "    ('kmeans', KNeighborsClassifier(n_neighbors=8, p=1))\n",
    "]\n",
    "\n",
    "predictions = []\n",
    "for name, model in models:\n",
    "    # print(f'fitting {name}')\n",
    "    model.fit(\n",
    "        dt_train.drop(['age', 'race', 'gender'], axis=1).values,\n",
    "        dt_train['gender'].values\n",
    "    )\n",
    "    predictions.append(\n",
    "        model.predict_proba(\n",
    "            dt_test.drop(['age', 'race', 'gender'], axis=1).values\n",
    "        )\n",
    "    )\n",
    "    \n",
    "mean_predictions = sum(predictions) / len(predictions)\n",
    "# np.argmax(mean_predictions, axis=1)\n",
    "accuracy_score(np.argmax(mean_predictions, axis=1), dt_test['gender'].values)"
   ],
   "metadata": {
    "collapsed": false,
    "ExecuteTime": {
     "end_time": "2023-12-03T10:55:02.471504Z",
     "start_time": "2023-12-03T10:54:20.737312500Z"
    }
   },
   "id": "7e93435c9a1def33"
  },
  {
   "cell_type": "markdown",
   "source": [
    "### Stacking (accuracy - 0.9207)\n",
    "Обучение моделей стекингом. Для базовых моделей использованы значения гиперпараметров по умолчанию, т.е. при использовании тех, что подобраны через GridSearchCV качество почему-то падает. "
   ],
   "metadata": {
    "collapsed": false
   },
   "id": "c5fc900fb9b95d54"
  },
  {
   "cell_type": "code",
   "execution_count": 103,
   "outputs": [
    {
     "data": {
      "text/plain": "0.9206666666666666"
     },
     "execution_count": 103,
     "metadata": {},
     "output_type": "execute_result"
    }
   ],
   "source": [
    "from sklearn.linear_model import RidgeClassifier\n",
    "\n",
    "models = [\n",
    "    ('log_reg', LogisticRegression()),\n",
    "    ('ridge', RidgeClassifier()),\n",
    "    # ('catboost', CatBoostClassifier(verbose=False)),\n",
    "    ('kmeans', KNeighborsClassifier())\n",
    "]\n",
    "\n",
    "# meta_model = ElasticNet()  # CatBoostRegressor(verbose=True)\n",
    "meta_model = CatBoostClassifier(verbose=False)\n",
    "\n",
    "ensemble = StackingClassifier(\n",
    "    estimators=models,\n",
    "    final_estimator=meta_model,\n",
    "    verbose=True\n",
    ")\n",
    "\n",
    "\n",
    "ensemble.fit(\n",
    "        dt_train.drop(['age', 'race', 'gender'], axis=1).values,\n",
    "        dt_train['gender'].values\n",
    "    )\n",
    "\n",
    "predictions = ensemble.predict(dt_test.drop(['age', 'race', 'gender'], axis=1).values)\n",
    "accuracy_score(predictions, dt_test['gender'].values)"
   ],
   "metadata": {
    "collapsed": false,
    "ExecuteTime": {
     "end_time": "2023-12-03T10:55:15.123322Z",
     "start_time": "2023-12-03T10:55:02.461500300Z"
    }
   },
   "id": "a678c729639d2698"
  },
  {
   "cell_type": "code",
   "execution_count": 104,
   "outputs": [],
   "source": [
    "\"\"\"Фиксируем лучшую модель\"\"\"\n",
    "model_gender = ensemble"
   ],
   "metadata": {
    "collapsed": false,
    "ExecuteTime": {
     "end_time": "2023-12-03T10:55:15.123322Z",
     "start_time": "2023-12-03T10:55:15.104302600Z"
    }
   },
   "id": "6b6e7cfca356cabd"
  },
  {
   "cell_type": "markdown",
   "source": [
    "## Классификация мультиклассовая (предсказание расы). Обучение и выбор лучшей модели\n",
    "### Bagging (incl. CatBoost) (accuracy - 0.817)\n",
    "Обучение методом бэггинга (сделано на занятии)"
   ],
   "metadata": {
    "collapsed": false
   },
   "id": "24128e1387e5848e"
  },
  {
   "cell_type": "code",
   "execution_count": 105,
   "id": "f00f744b-349c-4ee9-81d1-1cf1b4130b26",
   "metadata": {
    "ExecuteTime": {
     "end_time": "2023-12-03T10:55:15.123322Z",
     "start_time": "2023-12-03T10:55:15.110312600Z"
    }
   },
   "outputs": [],
   "source": [
    "models = [\n",
    "    ('log_reg', LogisticRegression()),\n",
    "    ('catboost', CatBoostClassifier(verbose=False)),\n",
    "    ('kmeans', KNeighborsClassifier())\n",
    "]"
   ]
  },
  {
   "cell_type": "code",
   "execution_count": 106,
   "id": "47f99cfa-2677-46b2-93c1-e9614db15559",
   "metadata": {
    "ExecuteTime": {
     "end_time": "2023-12-03T10:57:38.030105300Z",
     "start_time": "2023-12-03T10:55:15.121322600Z"
    }
   },
   "outputs": [
    {
     "data": {
      "text/plain": "0.817"
     },
     "execution_count": 106,
     "metadata": {},
     "output_type": "execute_result"
    }
   ],
   "source": [
    "predictions = []\n",
    "\n",
    "for name, model in models:\n",
    "    # print(f'fitting {name}')\n",
    "    model.fit(\n",
    "        dt_train.drop(['age', 'race', 'gender'], axis=1).values,\n",
    "        dt_train['race'].values\n",
    "    )\n",
    "    predictions.append(\n",
    "        model.predict_proba(\n",
    "            dt_test.drop(['age', 'race', 'gender'], axis=1).values\n",
    "        )\n",
    "    )\n",
    "\n",
    "predictions = sum(predictions) / len(predictions)\n",
    "predictions = np.argmax(predictions, axis=1)\n",
    "accuracy_score(predictions, dt_test['race'].values)"
   ]
  },
  {
   "cell_type": "markdown",
   "source": [
    "### Bagging (incl. CatBoost) with tuned models (accuracy - 0.822)\n",
    "Обучение методом бэггинга с использованием гиперпараметров, подобранных через GridSearchCV"
   ],
   "metadata": {
    "collapsed": false
   },
   "id": "c37f02c914cdffa4"
  },
  {
   "cell_type": "code",
   "execution_count": 107,
   "outputs": [
    {
     "data": {
      "text/plain": "0.822"
     },
     "execution_count": 107,
     "metadata": {},
     "output_type": "execute_result"
    }
   ],
   "source": [
    "models = [\n",
    "    ('log_reg', LogisticRegression(C=0.1, penalty='l2')),\n",
    "    ('catboost', CatBoostClassifier(verbose=False)),\n",
    "    ('kmeans', KNeighborsClassifier(n_neighbors=10, p=2))\n",
    "]\n",
    "predictions = []\n",
    "\n",
    "for name, model in models:\n",
    "    # print(f'fitting {name}')\n",
    "    model.fit(\n",
    "        dt_train.drop(['age', 'race', 'gender'], axis=1).values,\n",
    "        dt_train['race'].values\n",
    "    )\n",
    "    predictions.append(\n",
    "        model.predict_proba(\n",
    "            dt_test.drop(['age', 'race', 'gender'], axis=1).values\n",
    "        )\n",
    "    )\n",
    "\n",
    "predictions = sum(predictions) / len(predictions)\n",
    "predictions = np.argmax(predictions, axis=1)\n",
    "accuracy_score(predictions, dt_test['race'].values)"
   ],
   "metadata": {
    "collapsed": false,
    "ExecuteTime": {
     "end_time": "2023-12-03T11:00:01.359136800Z",
     "start_time": "2023-12-03T10:57:38.012098500Z"
    }
   },
   "id": "c44cbe8b4edf8676"
  },
  {
   "cell_type": "markdown",
   "source": [
    "__Фрагмент с кодом для подбора гиперараметров__"
   ],
   "metadata": {
    "collapsed": false
   },
   "id": "d2a4155b52aa59cc"
  },
  {
   "cell_type": "code",
   "execution_count": 108,
   "outputs": [
    {
     "name": "stdout",
     "output_type": "stream",
     "text": [
      "0.8950588235294118\n",
      "{'n_neighbors': 8, 'p': 1}\n"
     ]
    }
   ],
   "source": [
    "from sklearn.model_selection import GridSearchCV\n",
    "\n",
    "# model = LogisticRegression()\n",
    "# grid = {\n",
    "#     'C': [0.1, 1.0, 10.0, 100.0],\n",
    "#     'penalty' : [None, 'l1', 'l2', 'elasticnet']\n",
    "# }\n",
    " \n",
    "# model = RidgeClassifier()\n",
    "# grid = {\n",
    "#     'alpha' : np.logspace(-1, 3, 10)\n",
    "# }\n",
    "\n",
    "model = KNeighborsClassifier()\n",
    "grid = {\n",
    "    'n_neighbors' : np.arange(1, 11, 1),\n",
    "    'p' : [1,2]\n",
    "}\n",
    "\n",
    "search = GridSearchCV(\n",
    "    estimator=model,\n",
    "    param_grid=grid,\n",
    "    scoring='accuracy',\n",
    ")\n",
    "\n",
    "search.fit(\n",
    "    dt_train.drop(['age', 'race', 'gender'], axis=1).values,\n",
    "    dt_train['gender'].values\n",
    ")\n",
    "print(search.best_score_)\n",
    "print(search.best_params_)"
   ],
   "metadata": {
    "collapsed": false,
    "ExecuteTime": {
     "end_time": "2023-12-03T11:02:33.032177Z",
     "start_time": "2023-12-03T11:00:01.373138900Z"
    }
   },
   "id": "26246727df95b794"
  },
  {
   "cell_type": "markdown",
   "source": [
    "### Stacking (accuracy 0.827)\n",
    "Обучение модели методом стекинга. Для базовых моделей гиперпараметры подобраны с помощью GridSearchCV"
   ],
   "metadata": {
    "collapsed": false
   },
   "id": "9deeb36f07cab3cb"
  },
  {
   "cell_type": "code",
   "execution_count": 109,
   "outputs": [
    {
     "data": {
      "text/plain": "0.8256666666666667"
     },
     "execution_count": 109,
     "metadata": {},
     "output_type": "execute_result"
    }
   ],
   "source": [
    "models = [\n",
    "    ('log_reg', LogisticRegression(C=0.1, penalty='l2')),\n",
    "    ('ridge', RidgeClassifier(alpha=0.1)),\n",
    "    # ('catboost', CatBoostClassifier(verbose=False)),\n",
    "    ('kmeans', KNeighborsClassifier(n_neighbors=10, p=2))\n",
    "]\n",
    "\n",
    "# meta_model = ElasticNet()  # CatBoostRegressor(verbose=True)\n",
    "meta_model = CatBoostClassifier(verbose=False)\n",
    "\n",
    "ensemble = StackingClassifier(\n",
    "    estimators=models,\n",
    "    final_estimator=meta_model,\n",
    "    verbose=True\n",
    ")\n",
    "\n",
    "\n",
    "ensemble.fit(\n",
    "        dt_train.drop(['age', 'race', 'gender'], axis=1).values,\n",
    "        dt_train['race'].values\n",
    "    )\n",
    "\n",
    "predictions = ensemble.predict(dt_test.drop(['age', 'race', 'gender'], axis=1).values)\n",
    "accuracy_score(predictions, dt_test['race'].values)"
   ],
   "metadata": {
    "collapsed": false,
    "ExecuteTime": {
     "end_time": "2023-12-03T11:02:50.094204100Z",
     "start_time": "2023-12-03T11:02:33.037177200Z"
    }
   },
   "id": "66525c1665c81e36"
  },
  {
   "cell_type": "code",
   "execution_count": 110,
   "outputs": [],
   "source": [
    "\"\"\"Фиксируем лучшую модель\"\"\"\n",
    "model_race = ensemble"
   ],
   "metadata": {
    "collapsed": false,
    "ExecuteTime": {
     "end_time": "2023-12-03T11:02:50.094204100Z",
     "start_time": "2023-12-03T11:02:50.074877800Z"
    }
   },
   "id": "80460b1e74312ebd"
  },
  {
   "cell_type": "markdown",
   "id": "43e3542e-6c9c-40d2-9eab-23b617c848e3",
   "metadata": {},
   "source": [
    "## Использование моделей на отдельной тестовой выборке (для сдачи на проверку)"
   ]
  },
  {
   "cell_type": "code",
   "execution_count": 113,
   "id": "e8c7c065-8083-4189-9e99-47819b12984f",
   "metadata": {
    "ExecuteTime": {
     "end_time": "2023-12-03T11:04:29.787965100Z",
     "start_time": "2023-12-03T11:04:27.034666500Z"
    }
   },
   "outputs": [
    {
     "data": {
      "text/plain": "            age  gender  race\n0     35.674891     0.0   3.0\n1     65.083671     0.0   1.0\n2     32.988188     0.0   3.0\n3     24.273919     1.0   0.0\n4      5.972107     0.0   0.0\n...         ...     ...   ...\n3700  13.898428     0.0   2.0\n3701  33.282203     0.0   0.0\n3702  34.377516     0.0   1.0\n3703  59.945499     0.0   0.0\n3704  65.832052     1.0   0.0\n\n[3705 rows x 3 columns]",
      "text/html": "<div>\n<style scoped>\n    .dataframe tbody tr th:only-of-type {\n        vertical-align: middle;\n    }\n\n    .dataframe tbody tr th {\n        vertical-align: top;\n    }\n\n    .dataframe thead th {\n        text-align: right;\n    }\n</style>\n<table border=\"1\" class=\"dataframe\">\n  <thead>\n    <tr style=\"text-align: right;\">\n      <th></th>\n      <th>age</th>\n      <th>gender</th>\n      <th>race</th>\n    </tr>\n  </thead>\n  <tbody>\n    <tr>\n      <th>0</th>\n      <td>35.674891</td>\n      <td>0.0</td>\n      <td>3.0</td>\n    </tr>\n    <tr>\n      <th>1</th>\n      <td>65.083671</td>\n      <td>0.0</td>\n      <td>1.0</td>\n    </tr>\n    <tr>\n      <th>2</th>\n      <td>32.988188</td>\n      <td>0.0</td>\n      <td>3.0</td>\n    </tr>\n    <tr>\n      <th>3</th>\n      <td>24.273919</td>\n      <td>1.0</td>\n      <td>0.0</td>\n    </tr>\n    <tr>\n      <th>4</th>\n      <td>5.972107</td>\n      <td>0.0</td>\n      <td>0.0</td>\n    </tr>\n    <tr>\n      <th>...</th>\n      <td>...</td>\n      <td>...</td>\n      <td>...</td>\n    </tr>\n    <tr>\n      <th>3700</th>\n      <td>13.898428</td>\n      <td>0.0</td>\n      <td>2.0</td>\n    </tr>\n    <tr>\n      <th>3701</th>\n      <td>33.282203</td>\n      <td>0.0</td>\n      <td>0.0</td>\n    </tr>\n    <tr>\n      <th>3702</th>\n      <td>34.377516</td>\n      <td>0.0</td>\n      <td>1.0</td>\n    </tr>\n    <tr>\n      <th>3703</th>\n      <td>59.945499</td>\n      <td>0.0</td>\n      <td>0.0</td>\n    </tr>\n    <tr>\n      <th>3704</th>\n      <td>65.832052</td>\n      <td>1.0</td>\n      <td>0.0</td>\n    </tr>\n  </tbody>\n</table>\n<p>3705 rows × 3 columns</p>\n</div>"
     },
     "execution_count": 113,
     "metadata": {},
     "output_type": "execute_result"
    }
   ],
   "source": [
    "# # Допустим у вас есть модель для возраста\n",
    "# \n",
    "# model_age = Ridge()\n",
    "# model_age.fit(np.zeros((10, 512)), np.zeros(10))\n",
    "# \n",
    "# # Допустим у вас есть модель для гендера\n",
    "# \n",
    "# model_gender = LogisticRegression()\n",
    "# model_gender.fit(np.zeros((10, 512)), np.arange(10) % 2)\n",
    "# \n",
    "# # Допустим у вас есть модель для пола\n",
    "# \n",
    "# model_race = LogisticRegression()\n",
    "# model_race.fit(np.zeros((10, 512)), np.arange(10) % 5)\n",
    "# \n",
    "# \n",
    "# ========== Вот тут код для генерация файла предсказаний для этих моделек ============\n",
    "\n",
    "test = pd.read_csv('utk_vecs_test_wo_target.csv')\n",
    "age = model_age.predict(test.values)\n",
    "gender = model_gender.predict(test.values)\n",
    "race = model_race.predict(test.values)\n",
    "\n",
    "dt = pd.DataFrame()\n",
    "dt['age'] = age\n",
    "dt['gender'] = gender\n",
    "dt['race'] = race\n",
    "\n",
    "# Вот этот файлик вы мне и отправляете\n",
    "dt.to_csv('submission.csv', index=False)\n",
    "dt"
   ]
  },
  {
   "cell_type": "code",
   "execution_count": 111,
   "id": "e7cde377-b8d9-4ca9-bbf7-afb9ebfdacd4",
   "metadata": {
    "ExecuteTime": {
     "end_time": "2023-12-03T11:02:50.095205500Z",
     "start_time": "2023-12-03T11:02:50.086687Z"
    }
   },
   "outputs": [],
   "source": []
  }
 ],
 "metadata": {
  "kernelspec": {
   "display_name": "Python 3 (ipykernel)",
   "language": "python",
   "name": "python3"
  },
  "language_info": {
   "codemirror_mode": {
    "name": "ipython",
    "version": 3
   },
   "file_extension": ".py",
   "mimetype": "text/x-python",
   "name": "python",
   "nbconvert_exporter": "python",
   "pygments_lexer": "ipython3",
   "version": "3.11.5"
  }
 },
 "nbformat": 4,
 "nbformat_minor": 5
}
